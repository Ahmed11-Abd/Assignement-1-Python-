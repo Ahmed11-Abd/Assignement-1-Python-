{
 "cells": [
  {
   "cell_type": "code",
   "execution_count": 1,
   "metadata": {},
   "outputs": [
    {
     "name": "stdout",
     "output_type": "stream",
     "text": [
      "Please enter a number4\n"
     ]
    },
    {
     "data": {
      "text/plain": [
       "24"
      ]
     },
     "execution_count": 1,
     "metadata": {},
     "output_type": "execute_result"
    }
   ],
   "source": [
    "def factorial(num):\n",
    "    f=1\n",
    "    for i in range(1, num+1):\n",
    "        f=f*i\n",
    "    return f\n",
    "Number=int(input(\"Please enter a number\"))\n",
    "factorial(Number)"
   ]
  },
  {
   "cell_type": "code",
   "execution_count": 2,
   "metadata": {},
   "outputs": [
    {
     "name": "stdout",
     "output_type": "stream",
     "text": [
      "Original String :  TechStudy - The Complete Debugging Solution\n",
      "No. of Upper case characters :  6\n",
      "No. of Lower case Characters :  31\n"
     ]
    }
   ],
   "source": [
    "def string_test(str):\n",
    "    d={\"UPPER_CASE\":0, \"LOWER_CASE\":0}\n",
    "    for c in str:\n",
    "        if c.isupper():\n",
    "           d[\"UPPER_CASE\"]+=1\n",
    "        elif c.islower():\n",
    "           d[\"LOWER_CASE\"]+=1\n",
    "        else:\n",
    "           pass\n",
    "    print (\"Original String : \", str)\n",
    "    print (\"No. of Upper case characters : \", d[\"UPPER_CASE\"])\n",
    "    print (\"No. of Lower case Characters : \", d[\"LOWER_CASE\"])\n",
    " \n",
    "string_test('TechStudy - The Complete Debugging Solution')\n",
    "            "
   ]
  },
  {
   "cell_type": "code",
   "execution_count": 4,
   "metadata": {},
   "outputs": [
    {
     "name": "stdout",
     "output_type": "stream",
     "text": [
      "Number of even numbers: [10, 4, 66]\n"
     ]
    }
   ],
   "source": [
    "def CheckEvenNumbers(list):\n",
    "    number=[]\n",
    "    for num in list: \n",
    "      \n",
    "        if num % 2 == 0: \n",
    "            number.append(num)\n",
    "    print(\"Number of even numbers:\",number)\n",
    "    \n",
    "list1 = [10, 21, 4, 45, 66, 93] \n",
    "CheckEvenNumbers(list1)"
   ]
  },
  {
   "cell_type": "code",
   "execution_count": 6,
   "metadata": {},
   "outputs": [
    {
     "name": "stdout",
     "output_type": "stream",
     "text": [
      "4\n"
     ]
    }
   ],
   "source": [
    "any=\"ks s\"\n",
    "print(len(any))"
   ]
  },
  {
   "cell_type": "code",
   "execution_count": 8,
   "metadata": {},
   "outputs": [
    {
     "name": "stdout",
     "output_type": "stream",
     "text": [
      "False\n"
     ]
    }
   ],
   "source": [
    "def isPalindrome(string):\n",
    "    left_pos = 0\n",
    "    right_pos = len(string) - 1\n",
    "\n",
    "    while right_pos >= left_pos:\n",
    "        if not string[left_pos] == string[right_pos]:\n",
    "            return False\n",
    "        left_pos += 1\n",
    "        right_pos -= 1\n",
    "    return True\n",
    "print(isPalindrome('tabat')) "
   ]
  },
  {
   "cell_type": "code",
   "execution_count": 10,
   "metadata": {},
   "outputs": [
    {
     "name": "stdout",
     "output_type": "stream",
     "text": [
      "The number is even\n"
     ]
    }
   ],
   "source": [
    "def CheckOddEven(number):\n",
    "    if number%2==0:\n",
    "        print(\"The number is even\")\n",
    "    else:\n",
    "        print(\"The number is odd\")\n",
    "CheckOddEven(6)"
   ]
  },
  {
   "cell_type": "code",
   "execution_count": 11,
   "metadata": {},
   "outputs": [
    {
     "name": "stdout",
     "output_type": "stream",
     "text": [
      "Following are the items bought\n",
      "1. Apple \n",
      "2. Toys \n",
      "3. Juice \n",
      "4. Water \n",
      "4. Bread\n"
     ]
    }
   ],
   "source": [
    "def Market(Item1,Item2,Item3,Item4,Item5):\n",
    "    print(\"Following are the items bought\\n1.\",Item1,\"\\n2.\",Item2,\"\\n3.\",Item3,\"\\n4.\",Item4,\"\\n4.\",Item5)\n",
    "Market(\"Apple\",\"Toys\",\"Juice\",\"Water\",\"Bread\")\n",
    "    \n"
   ]
  },
  {
   "cell_type": "code",
   "execution_count": null,
   "metadata": {},
   "outputs": [],
   "source": []
  }
 ],
 "metadata": {
  "kernelspec": {
   "display_name": "Python 3",
   "language": "python",
   "name": "python3"
  },
  "language_info": {
   "codemirror_mode": {
    "name": "ipython",
    "version": 3
   },
   "file_extension": ".py",
   "mimetype": "text/x-python",
   "name": "python",
   "nbconvert_exporter": "python",
   "pygments_lexer": "ipython3",
   "version": "3.7.4"
  }
 },
 "nbformat": 4,
 "nbformat_minor": 2
}
