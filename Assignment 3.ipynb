{
 "cells": [
  {
   "cell_type": "code",
   "execution_count": null,
   "metadata": {},
   "outputs": [
    {
     "name": "stdout",
     "output_type": "stream",
     "text": [
      "Select operation.\n",
      "1.Add\n",
      "2.Subtract\n",
      "3.Multiply\n",
      "4.Divide\n",
      "5.Power\n"
     ]
    }
   ],
   "source": [
    "print(\"Select operation.\")\n",
    "print(\"1.Add\")\n",
    "print(\"2.Subtract\")\n",
    "print(\"3.Multiply\")\n",
    "print(\"4.Divide\")\n",
    "print(\"5.Power\")\n",
    "choice = input(\"Enter choice(1/2/3/4/5): \")\n",
    "num1 = float(input(\"Enter first number: \"))\n",
    "num2 = float(input(\"Enter second number: \"))\n",
    "if choice == '1':\n",
    "   print(num1,\"+\",num2,\"=\", (num1+num2))\n",
    "elif choice == '2':\n",
    "   print(num1,\"-\",num2,\"=\", (num1-num2))\n",
    "elif choice == '3':\n",
    "   print(num1,\"*\",num2,\"=\", (num1*num2))\n",
    "elif choice == '4':\n",
    "   print(num1,\"/\",num2,\"=\", (num1/num2))\n",
    "elif choice == '5':\n",
    "    print(num1,\"^\",num2,\"=\", (pow(num1,num2)))\n",
    "else:\n",
    "   print(\"Invalid input\")\n"
   ]
  },
  {
   "cell_type": "code",
   "execution_count": null,
   "metadata": {},
   "outputs": [],
   "source": [
    "\n",
    "dictionary1 = {'key1':'Apple', 'key2':'For'} \n",
    "print(\"Current Dictionary is: \", dictionary1) \n",
    "dict.update({'key3':'Factory'}) \n",
    "print(\"Updated Dictionary is: \", dictionary1) \n",
    "dictionary2={'key4':'is', 'key5':'fabulous'} \n",
    "dictionary1.update(dictionary2) \n",
    "print(dictionary1) \n",
    "dictionary1.update(newkey1 ='portal') \n",
    "print(dictionary1) \t\n"
   ]
  },
  {
   "cell_type": "code",
   "execution_count": null,
   "metadata": {},
   "outputs": [],
   "source": [
    "list1 = [10, 20, 10, 20, 30, 40, 30, 50]\n",
    "list2 = []\n",
    "for n in list1:\n",
    "if n not in list2:\n",
    "list2.append(n)\n",
    "print(\"Original list\")\n",
    "print(\"list1: \", list1)\n",
    "print(\"List after removing duplicate elements\")\n",
    "print(\"list2: \", list2)"
   ]
  },
  {
   "cell_type": "code",
   "execution_count": null,
   "metadata": {},
   "outputs": [],
   "source": [
    "x = {'Key1': 10, 'Key2': 50, 'Key3': 74, 'Key4': 12, 'Key5': 44, 'Key6': 19}\n",
    "print(x)\n",
    "if 'Key4' in x.keys():\n",
    "    print(\"True\")\n",
    "else:\n",
    "    print(\"False\")\n"
   ]
  },
  {
   "cell_type": "code",
   "execution_count": null,
   "metadata": {},
   "outputs": [],
   "source": [
    "n=[1,2,3,'Karachi','Islamabad',9,10]\n",
    "for num in n :\n",
    "    if type(num)==int:\n",
    "        print(\"It is a number\")\n",
    "        else:\n",
    "            print(\"It is a string\")"
   ]
  }
 ],
 "metadata": {
  "kernelspec": {
   "display_name": "Python 3",
   "language": "python",
   "name": "python3"
  },
  "language_info": {
   "codemirror_mode": {
    "name": "ipython",
    "version": 3
   },
   "file_extension": ".py",
   "mimetype": "text/x-python",
   "name": "python",
   "nbconvert_exporter": "python",
   "pygments_lexer": "ipython3",
   "version": "3.7.4"
  }
 },
 "nbformat": 4,
 "nbformat_minor": 2
}
