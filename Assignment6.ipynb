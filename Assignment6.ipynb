{
 "cells": [
  {
   "cell_type": "code",
   "execution_count": 4,
   "metadata": {},
   "outputs": [
    {
     "name": "stdout",
     "output_type": "stream",
     "text": [
      "Civic\n",
      "1900000\n",
      "Average of Civic is 12 KM per litre\n",
      "The name of car is Civic and model number is 2017\n",
      "Color of the car is White and price is 1900000 PKR\n"
     ]
    }
   ],
   "source": [
    "class Car:\n",
    "    def __init__(self,model,name,color,price,average):\n",
    "        self.model=model\n",
    "        self.name=name\n",
    "        self.color=color\n",
    "        self.price=price\n",
    "        self.average=average\n",
    "    \n",
    "    def AveragePerLitre(self):\n",
    "        print(\"Average of {} is {} KM per litre\".format(self.name,self.average))\n",
    "    \n",
    "    def CarNameAndModel(self):\n",
    "        print(\"The name of car is {} and model number is {}\".format(self.name,self.model))\n",
    "    \n",
    "    def CarColorAndPrice(self):\n",
    "        print(\"Color of the car is {} and price is {} PKR\".format(self.color,self.price))\n",
    "\n",
    "obj=Car(2017,\"Civic\",\"White\",1900000,12)\n",
    "print(obj.name)\n",
    "print(obj.price)\n",
    "obj.AveragePerLitre()\n",
    "obj.CarNameAndModel()\n",
    "obj.CarColorAndPrice()"
   ]
  },
  {
   "cell_type": "code",
   "execution_count": null,
   "metadata": {},
   "outputs": [],
   "source": []
  }
 ],
 "metadata": {
  "kernelspec": {
   "display_name": "Python 3",
   "language": "python",
   "name": "python3"
  },
  "language_info": {
   "codemirror_mode": {
    "name": "ipython",
    "version": 3
   },
   "file_extension": ".py",
   "mimetype": "text/x-python",
   "name": "python",
   "nbconvert_exporter": "python",
   "pygments_lexer": "ipython3",
   "version": "3.7.4"
  }
 },
 "nbformat": 4,
 "nbformat_minor": 2
}
