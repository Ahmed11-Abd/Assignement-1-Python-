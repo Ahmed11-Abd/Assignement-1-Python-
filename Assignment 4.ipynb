{
 "cells": [
  {
   "cell_type": "code",
   "execution_count": 1,
   "metadata": {},
   "outputs": [
    {
     "name": "stdout",
     "output_type": "stream",
     "text": [
      "{'first_name': 'Ahmed', 'last_name': 'Abdullah', 'age': 21, 'City': 'Karachi'}\n",
      "{'first_name': 'Ahmed', 'last_name': 'Abdullah', 'age': 21, 'City': 'Karachi', 'Qualification': 'Bachelors'}\n",
      "{'first_name': 'Ahmed', 'last_name': 'Abdullah', 'age': 21, 'City': 'Karachi', 'Qualification': 'High Academic levels'}\n",
      "{'first_name': 'Ahmed', 'last_name': 'Abdullah', 'age': 21, 'City': 'Karachi'}\n"
     ]
    }
   ],
   "source": [
    "thisdict = {\n",
    "  \"first_name\":\"Ahmed\",\n",
    "    \"last_name\":\"Abdullah\",\n",
    "    \"age\":21,\n",
    "    \"City\":\"Karachi\"\n",
    "}\n",
    "print(thisdict)\n",
    "thisdict[\"Qualification\"] = \"Bachelors\"\n",
    "print(thisdict)\n",
    "thisdict[\"Qualification\"] = \"High Academic levels\"\n",
    "print(thisdict)\n",
    "thisdict.pop(\"Qualification\")\n",
    "print(thisdict)\n"
   ]
  },
  {
   "cell_type": "code",
   "execution_count": 2,
   "metadata": {},
   "outputs": [
    {
     "name": "stdout",
     "output_type": "stream",
     "text": [
      "{'Moscow': {'Country': 'Russia', 'Population': 512000000, 'Fact': 'Russia is the biggest city in the world'}, 'Sydney': {'Country': 'Austrailia', 'Population': 32700000, 'Fact': 'Sydeny is known for its beautiful places'}, 'Colombo': {'Country': 'SriLanka', 'Population': 312000, 'Fact': 'It is known for its best tea'}}\n"
     ]
    }
   ],
   "source": [
    "\n",
    "Moscow = {\n",
    "  \"Country\" : \"Russia\",\n",
    "  \"Population\" : 512000000,\n",
    "  \"Fact\" : \"Russia is the biggest city in the world\"\n",
    "}\n",
    "Sydney = {\n",
    " \"Country\" : \"Austrailia\",\n",
    "  \"Population\" : 32700000,\n",
    "  \"Fact\" : \"Sydeny is known for its beautiful places\"\n",
    "}\n",
    "Colombo = {\n",
    "  \"Country\" : \"SriLanka\",\n",
    "  \"Population\" : 312000,\n",
    "  \"Fact\" : \"It is known for its best tea\"\n",
    "}\n",
    "\n",
    "Cities = {\n",
    "  \"Moscow\" : Moscow,\n",
    "  \"Sydney\" : Sydney,\n",
    "  \"Colombo\" : Colombo\n",
    "}\n",
    "\n",
    "print(Cities)"
   ]
  },
  {
   "cell_type": "code",
   "execution_count": 3,
   "metadata": {},
   "outputs": [
    {
     "name": "stdout",
     "output_type": "stream",
     "text": [
      "How old are you?\n",
      "Enter 'quit' when you are finished. quit\n"
     ]
    }
   ],
   "source": [
    "\n",
    "prompt = \"How old are you?\"\n",
    "prompt += \"\\nEnter 'quit' when you are finished. \"\n",
    "\n",
    "while True:\n",
    "    age = input(prompt)\n",
    "    if age == 'quit':\n",
    "        break\n",
    "    age = int(age)\n",
    "\n",
    "    if age < 3:\n",
    "        print(\"  You get in free!\")\n",
    "    elif age < 13:\n",
    "        print(\"  Your ticket is $10.\")\n",
    "    else:\n",
    "        print(\"  Your ticket is $15.\")\n"
   ]
  },
  {
   "cell_type": "code",
   "execution_count": 4,
   "metadata": {},
   "outputs": [
    {
     "name": "stdout",
     "output_type": "stream",
     "text": [
      "One of my favourite book is: Oliver Twist\n"
     ]
    }
   ],
   "source": [
    "def favorite_book(title):\n",
    "    print(\"One of my favourite book is:\",title)\n",
    "favorite_book(\"Oliver Twist\")\n"
   ]
  },
  {
   "cell_type": "code",
   "execution_count": 6,
   "metadata": {},
   "outputs": [
    {
     "name": "stdout",
     "output_type": "stream",
     "text": [
      "29\n"
     ]
    }
   ],
   "source": [
    "import random \n",
    "Number=random.randrange(10, 30, 1)\n",
    "prompt = \"Guess the number\"\n",
    "prompt += \"\\nEnter 'quit' when you are finished. \"\n",
    "\n",
    "while True:\n",
    "    age = input(prompt)\n",
    "    if age == 'quit':\n",
    "        break\n",
    "    age = int(age)\n",
    "\n",
    "    if age < 3:\n",
    "        print(\"  You get in free!\")\n",
    "    elif age < 13:\n",
    "        print(\"  Your ticket is $10.\")\n",
    "    else:\n",
    "        print(\"  Your ticket is $15.\")\n",
    "\n"
   ]
  },
  {
   "cell_type": "code",
   "execution_count": 16,
   "metadata": {},
   "outputs": [
    {
     "name": "stdout",
     "output_type": "stream",
     "text": [
      "Take a guess\n",
      "9\n",
      "Your guess is less than the random number\n",
      "Take a guess\n",
      "22\n",
      "Your guess is higher than the random number\n",
      "Take a guess\n",
      "15\n",
      "Your guess is higher than the random number\n",
      "Take a guess\n",
      "12\n",
      "Yayy! you made the right guess12\n"
     ]
    }
   ],
   "source": [
    "import random\n",
    "guesses=0\n",
    "number = random.randint(1, 30)\n",
    "while guesses < 6:\n",
    "    print(\"Take a guess\")\n",
    "    guess=input()\n",
    "    guess=int(guess)\n",
    "    guesses=guesses+1\n",
    "    \n",
    "    if guess < number:\n",
    "            print(\"Your guess is less than the random number\")\n",
    "\n",
    "    \n",
    "    if guess > number:\n",
    "            print(\"Your guess is higher than the random number\")\n",
    "\n",
    "        \n",
    "    \n",
    "    if guess==number:\n",
    "        guess=str(guess)\n",
    "        print(\"Yayy! you made the right guess\"+guess)\n",
    "        break\n",
    "    \n",
    "    "
   ]
  },
  {
   "cell_type": "code",
   "execution_count": null,
   "metadata": {},
   "outputs": [],
   "source": []
  }
 ],
 "metadata": {
  "kernelspec": {
   "display_name": "Python 3",
   "language": "python",
   "name": "python3"
  },
  "language_info": {
   "codemirror_mode": {
    "name": "ipython",
    "version": 3
   },
   "file_extension": ".py",
   "mimetype": "text/x-python",
   "name": "python",
   "nbconvert_exporter": "python",
   "pygments_lexer": "ipython3",
   "version": "3.7.4"
  }
 },
 "nbformat": 4,
 "nbformat_minor": 2
}
