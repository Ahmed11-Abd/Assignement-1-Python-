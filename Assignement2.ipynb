{
 "cells": [
  {
   "cell_type": "code",
   "execution_count": 1,
   "metadata": {},
   "outputs": [
    {
     "name": "stdout",
     "output_type": "stream",
     "text": [
      "Enter Marks1:62\n",
      "Enter Marks2:99\n",
      "Enter Marks3:53\n",
      "Enter Marks4:67\n",
      "Enter Marks5:88\n",
      "C Grade\n"
     ]
    }
   ],
   "source": [
    "mark1=int(input(\"Enter Marks1:\"))\n",
    "mark2=int(input(\"Enter Marks2:\"))\n",
    "mark3=int(input(\"Enter Marks3:\"))\n",
    "mark4=int(input(\"Enter Marks4:\"))\n",
    "mark5=int(input(\"Enter Marks5:\"))\n",
    "average=(mark1+mark2+mark3+mark4+mark5)/5;\n",
    "if(average>95 and average<=100):\n",
    "    print(\"O Grade\")\n",
    "elif(average>90 and average<=95):\n",
    "    print(\"A grade\")\n",
    "elif(average>80 and average<91):\n",
    "    print(\"B Grade\")\n",
    "elif(average>70 and average<81):\n",
    "    print(\"C Grade\")\n",
    "elif(average>60 and average<71):\n",
    "    print(\"D Grade\")\n",
    "elif(average>49 and average<61):\n",
    "    print(\"E Grade\")\n",
    "else:\n",
    "    print(\"F Grade\")"
   ]
  },
  {
   "cell_type": "code",
   "execution_count": 2,
   "metadata": {},
   "outputs": [
    {
     "name": "stdout",
     "output_type": "stream",
     "text": [
      "Enter a number: 6\n",
      "This is an even number.\n"
     ]
    }
   ],
   "source": [
    "num = int(input(\"Enter a number: \"))\n",
    "mod = num % 2\n",
    "if mod > 0:\n",
    "    print(\"This is an odd number.\")\n",
    "else:\n",
    "    print(\"This is an even number.\")"
   ]
  },
  {
   "cell_type": "code",
   "execution_count": 3,
   "metadata": {},
   "outputs": [
    {
     "name": "stdout",
     "output_type": "stream",
     "text": [
      "Lenght= 7\n"
     ]
    }
   ],
   "source": [
    "list1= [1,2,3,4,5,6,7];\n",
    "print(\"Lenght=\",len(list1));"
   ]
  },
  {
   "cell_type": "code",
   "execution_count": 4,
   "metadata": {},
   "outputs": [
    {
     "name": "stdout",
     "output_type": "stream",
     "text": [
      "How many numbers: 5\n",
      "Enter number 4\n",
      "Enter number 6\n",
      "Enter number 9\n",
      "Enter number 8\n",
      "Enter number 4\n",
      "Sum of elements in given list is : 31\n"
     ]
    }
   ],
   "source": [
    "lst = []\n",
    "num = int(input('How many numbers: '))\n",
    "for n in range(num):\n",
    "    numbers = int(input('Enter number '))\n",
    "    lst.append(numbers)\n",
    "print(\"Sum of elements in given list is :\", sum(lst))"
   ]
  },
  {
   "cell_type": "code",
   "execution_count": 5,
   "metadata": {},
   "outputs": [
    {
     "name": "stdout",
     "output_type": "stream",
     "text": [
      "How many numbers: 3\n",
      "Enter number 1\n",
      "Enter number 6\n",
      "Enter number 4\n",
      "Maximum element in the list is : 6\n"
     ]
    }
   ],
   "source": [
    "lst = []\n",
    "num = int(input('How many numbers: '))\n",
    "for n in range(num):\n",
    "    numbers = int(input('Enter number '))\n",
    "    lst.append(numbers)\n",
    "print(\"Maximum element in the list is :\", max(lst))\n"
   ]
  },
  {
   "cell_type": "code",
   "execution_count": 7,
   "metadata": {},
   "outputs": [
    {
     "name": "stdout",
     "output_type": "stream",
     "text": [
      "1\n",
      "1\n",
      "2\n",
      "3\n",
      "4\n",
      "3\n"
     ]
    }
   ],
   "source": [
    "a = [1,1,2,3,4,8,13,9,34,55,3]\n",
    "for i in range(len(a)):\n",
    "    if a[i]<5: \n",
    "            print(a[i])\n",
    "            "
   ]
  },
  {
   "cell_type": "code",
   "execution_count": null,
   "metadata": {},
   "outputs": [],
   "source": []
  }
 ],
 "metadata": {
  "kernelspec": {
   "display_name": "Python 3",
   "language": "python",
   "name": "python3"
  },
  "language_info": {
   "codemirror_mode": {
    "name": "ipython",
    "version": 3
   },
   "file_extension": ".py",
   "mimetype": "text/x-python",
   "name": "python",
   "nbconvert_exporter": "python",
   "pygments_lexer": "ipython3",
   "version": "3.7.4"
  }
 },
 "nbformat": 4,
 "nbformat_minor": 2
}
